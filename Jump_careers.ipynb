{
 "cells": [
  {
   "cell_type": "markdown",
   "metadata": {},
   "source": [
    "# Recruitment test\n",
    "\n",
    "## About the input\n",
    "\n",
    "The input is made of three sections.\n",
    "\n",
    "* The first one has a number n with the number of lines that the first section will have.\n",
    "\n",
    "* Then comes n lines, each one with a number i and a string s in the following format: i-s. The number is just an identifier that you are going to use later to link each career position in order to build a path. The string is the name of the career position.\n",
    "\n",
    "* A number e comes and e lines follows it, containing two numbers, j and k, that represents the identifier of the career position.\n",
    "\n",
    "* Then comes a number a and the following a lines must be answered with a possible career path.\n",
    "\n",
    "Example:\n",
    "\n",
    "```3\n",
    "1-High School Graduate\n",
    "2-Bachelor of Computer Science\n",
    "3-Software Engineer\n",
    "2\n",
    "1 2\n",
    "2 3\n",
    "1\n",
    "John is a High School Graduate and wants to become a Software Engineer\n",
    "```\n",
    "\n",
    "Can be answered with: `High School Graduate - Bachelor of Computer Science - Software Engineer`\n",
    "\n",
    "There's no required format for the answer. There might be multiple answers and it's up to you to choose one.\n",
    "\n",
    "### More info\n",
    "\n",
    "* You must use Python 2/3.\n",
    "* The idea is more important than the correctness of the answers.\n",
    "* Test your code."
   ]
  },
  {
   "cell_type": "markdown",
   "metadata": {},
   "source": [
    "# Solving problem Using Networkx function"
   ]
  },
  {
   "cell_type": "code",
   "execution_count": 1,
   "metadata": {
    "collapsed": true
   },
   "outputs": [],
   "source": [
    "import numpy as np\n",
    "import re\n",
    "import pandas as pd\n",
    "import codecs\n",
    "from collections import defaultdict\n",
    "import networkx as nx\n",
    "import matplotlib.pyplot as plt\n",
    "%matplotlib inline"
   ]
  },
  {
   "cell_type": "code",
   "execution_count": 2,
   "metadata": {
    "collapsed": true
   },
   "outputs": [],
   "source": [
    "input_file = 'jumpcareers/recruitment-test/input'\n",
    "input_file_2 = 'example_input.txt'"
   ]
  },
  {
   "cell_type": "code",
   "execution_count": 6,
   "metadata": {
    "collapsed": true
   },
   "outputs": [],
   "source": [
    "def career_path(input_file):    \n",
    "    with open(input_file,'r') as f:\n",
    "        text = f.read().lower()\n",
    "        text = text.split('\\n')\n",
    "        routes_dict = {}\n",
    "        edges = []\n",
    "        student_start_end = []\n",
    "        student_paths = []\n",
    "        \n",
    "        #Extracting the career options and their numbers\n",
    "        for i in range(1,int(text[0])+1):\n",
    "            route = text[i].split('-')\n",
    "            routes_dict[route[0]] = route[1]\n",
    "\n",
    "        #Extracting the links between career options\n",
    "        for i in range(int(text[0])+2,int(text[int(text[0])+1])+int(text[0])+2):\n",
    "            edges.append(tuple(text[i].split()))\n",
    "\n",
    "        #Extracting start and end career options\n",
    "        for i in range(int(text[int(text[0])+1])+int(text[0])+3,len(text)-1):\n",
    "            k = [text[i][text[i].index('is a')+5:text[i].index('and')-1],text[i][text[i].index('become a')+9:]]\n",
    "            output = [key for key, value in routes_dict.items() for i in k if i == value]\n",
    "            student_start_end.append(output)\n",
    "\n",
    "        #Creating graph\n",
    "        G = nx.Graph()\n",
    "        G.add_nodes_from(routes_dict.keys())\n",
    "        G.add_edges_from(edges)\n",
    "\n",
    "        #Finding the career paths and printing the outputs\n",
    "        for i in student_start_end:\n",
    "            shortest_path = nx.shortest_path(G,source=i[0],target=i[1])\n",
    "            word_path = [routes_dict[i] for i in shortest_path]\n",
    "            student_paths.append(' - '.join(word_path))\n",
    "        \n",
    "        #Plotting the links between career options\n",
    "        pos = nx.spring_layout(G)\n",
    "        nx.draw_networkx_nodes(G, pos, cmap=plt.get_cmap('jet'), node_size = 10)\n",
    "        nx.draw_networkx_labels(G, pos)\n",
    "        nx.draw_networkx_edges(G, pos,  edge_color='r', arrows=True)\n",
    "        nx.draw_networkx_edges(G, pos,  arrows=False)\n",
    "        plt.show()\n",
    "        \n",
    "        return student_paths"
   ]
  },
  {
   "cell_type": "code",
   "execution_count": 22,
   "metadata": {},
   "outputs": [
    {
     "data": {
      "image/png": "[encoded data removed]",
      "text/plain": [
       "<matplotlib.figure.Figure at 0x11b0776d8>"
      ]
     },
     "metadata": {},
     "output_type": "display_data"
    }
   ],
   "source": [
    "test_output = career_path(input_file)"
   ]
  },
  {
   "cell_type": "code",
   "execution_count": 23,
   "metadata": {},
   "outputs": [
    {
     "data": {
      "text/plain": [
       "['high school graduate - bachelor of computer science - software engineer - lead developer - project manager - cto',\n",
       " 'high school graduate - bachelor of psychology - hr consultant - hr executive',\n",
       " 'software engineer - lead developer - project manager - cto',\n",
       " 'high school graduate - bachelor of psychology - psychologist',\n",
       " 'bachelor of computer science - software engineer - lead developer - project manager - cto - vp - ceo']"
      ]
     },
     "execution_count": 23,
     "metadata": {},
     "output_type": "execute_result"
    }
   ],
   "source": [
    "test_output"
   ]
  },
  {
   "cell_type": "markdown",
   "metadata": {
    "collapsed": true
   },
   "source": [
    "# Solving problem without Networkx "
   ]
  },
  {
   "cell_type": "code",
   "execution_count": 117,
   "metadata": {
    "collapsed": true
   },
   "outputs": [],
   "source": [
    "def find_shortest_path(graph, start, end, path=[]):\n",
    "    '''Finding the shortest path from start career option to end career choice'''\n",
    "        path = path + [start]\n",
    "        if start == end:\n",
    "            return path\n",
    "        if start not in graph:\n",
    "            return None\n",
    "        shortest = None\n",
    "        for node in graph[start]:\n",
    "            if node not in path:\n",
    "                newpath = find_shortest_path(graph, node, end, path)\n",
    "                if newpath:\n",
    "                    if not shortest or len(newpath) < len(shortest):\n",
    "                        shortest = newpath\n",
    "        return shortest"
   ]
  },
  {
   "cell_type": "code",
   "execution_count": 168,
   "metadata": {},
   "outputs": [],
   "source": [
    "def career_path_without_nx(input_file):    \n",
    "    with open(input_file,'r') as f:\n",
    "        text = f.read().lower()\n",
    "        text = text.split('\\n')\n",
    "        routes_dict = {}\n",
    "        edges = []\n",
    "        student_start_end = []\n",
    "        student_paths = []\n",
    "        \n",
    "        #Extracting the career options and their numbers\n",
    "        for i in range(1,int(text[0])+1):\n",
    "            route = text[i].split('-')\n",
    "            routes_dict[route[0]] = route[1]\n",
    "        \n",
    "        #Extracting the links between career options\n",
    "        graph_dict = defaultdict(str)\n",
    "        for i in range(int(text[0])+2,int(text[int(text[0])+1])+int(text[0])+2):\n",
    "            x = text[i].split()\n",
    "            if x[0] in graph_dict:\n",
    "                graph_dict[x[0]].append(x[1])\n",
    "            else:\n",
    "                graph_dict[x[0]] = [x[1]]\n",
    "        \n",
    "        #Extracting start and end career options\n",
    "        for i in range(int(text[int(text[0])+1])+int(text[0])+3,len(text)-1):\n",
    "            k = [text[i][text[i].index('is a')+5:text[i].index('and')-1],text[i][text[i].index('become a')+9:]]\n",
    "            output = [key for key, value in routes_dict.items() for i in k if i == value]\n",
    "            student_start_end.append(output)\n",
    "            \n",
    "        #Finding the career paths and printing the outputs\n",
    "        for i in student_start_end:\n",
    "            shortest_path = find_shortest_path(graph_dict,i[0],i[1])\n",
    "            if shortest_path:\n",
    "                word_path = [routes_dict[i] for i in shortest_path]\n",
    "                student_paths.append(' - '.join(word_path))\n",
    "            \n",
    "        return student_paths"
   ]
  },
  {
   "cell_type": "code",
   "execution_count": 169,
   "metadata": {},
   "outputs": [
    {
     "data": {
      "text/plain": [
       "['high school graduate - bachelor of computer science - software engineer - lead developer - project manager - cto',\n",
       " 'high school graduate - bachelor of psychology - hr consultant - hr executive',\n",
       " 'software engineer - lead developer - project manager - cto',\n",
       " 'high school graduate - bachelor of psychology - psychologist']"
      ]
     },
     "execution_count": 169,
     "metadata": {},
     "output_type": "execute_result"
    }
   ],
   "source": [
    "career_path_without_nx(input_file)"
   ]
  },
  {
   "cell_type": "code",
   "execution_count": null,
   "metadata": {
    "collapsed": true
   },
   "outputs": [],
   "source": []
  }
 ],
 "metadata": {
  "kernelspec": {
   "display_name": "Python 3",
   "language": "python",
   "name": "python3"
  },
  "language_info": {
   "codemirror_mode": {
    "name": "ipython",
    "version": 3
   },
   "file_extension": ".py",
   "mimetype": "text/x-python",
   "name": "python",
   "nbconvert_exporter": "python",
   "pygments_lexer": "ipython3",
   "version": "3.6.1"
  }
 },
 "nbformat": 4,
 "nbformat_minor": 2
}
